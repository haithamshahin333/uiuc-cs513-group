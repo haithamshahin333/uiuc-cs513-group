{
 "cells": [
  {
   "cell_type": "markdown",
   "id": "0a9cf7d9",
   "metadata": {},
   "source": [
    "### Load Packages"
   ]
  },
  {
   "cell_type": "code",
   "execution_count": 1,
   "id": "26e72313",
   "metadata": {},
   "outputs": [
    {
     "name": "stdout",
     "output_type": "stream",
     "text": [
      "Requirement already satisfied: pandas in ./.venv/lib/python3.12/site-packages (2.3.1)\n",
      "Requirement already satisfied: numpy in ./.venv/lib/python3.12/site-packages (2.3.2)\n",
      "Requirement already satisfied: matplotlib in ./.venv/lib/python3.12/site-packages (3.10.5)\n",
      "Requirement already satisfied: seaborn in ./.venv/lib/python3.12/site-packages (0.13.2)\n",
      "Requirement already satisfied: python-dateutil>=2.8.2 in ./.venv/lib/python3.12/site-packages (from pandas) (2.9.0.post0)\n",
      "Requirement already satisfied: pytz>=2020.1 in ./.venv/lib/python3.12/site-packages (from pandas) (2025.2)\n",
      "Requirement already satisfied: tzdata>=2022.7 in ./.venv/lib/python3.12/site-packages (from pandas) (2025.2)\n",
      "Requirement already satisfied: contourpy>=1.0.1 in ./.venv/lib/python3.12/site-packages (from matplotlib) (1.3.3)\n",
      "Requirement already satisfied: cycler>=0.10 in ./.venv/lib/python3.12/site-packages (from matplotlib) (0.12.1)\n",
      "Requirement already satisfied: fonttools>=4.22.0 in ./.venv/lib/python3.12/site-packages (from matplotlib) (4.59.0)\n",
      "Requirement already satisfied: kiwisolver>=1.3.1 in ./.venv/lib/python3.12/site-packages (from matplotlib) (1.4.8)\n",
      "Requirement already satisfied: packaging>=20.0 in ./.venv/lib/python3.12/site-packages (from matplotlib) (25.0)\n",
      "Requirement already satisfied: pillow>=8 in ./.venv/lib/python3.12/site-packages (from matplotlib) (11.3.0)\n",
      "Requirement already satisfied: pyparsing>=2.3.1 in ./.venv/lib/python3.12/site-packages (from matplotlib) (3.2.3)\n",
      "Requirement already satisfied: six>=1.5 in ./.venv/lib/python3.12/site-packages (from python-dateutil>=2.8.2->pandas) (1.17.0)\n",
      "Note: you may need to restart the kernel to use updated packages.\n"
     ]
    }
   ],
   "source": [
    "# Install Packages\n",
    "%pip install pandas numpy matplotlib seaborn\n",
    "\n",
    "# Import\n",
    "import pandas as pd\n",
    "import numpy as np\n",
    "import matplotlib.pyplot as plt\n",
    "import seaborn as sns\n",
    "from datetime import datetime\n",
    "import os"
   ]
  },
  {
   "cell_type": "markdown",
   "id": "073ff3ec",
   "metadata": {},
   "source": [
    "### Load Dataset"
   ]
  },
  {
   "cell_type": "code",
   "execution_count": 2,
   "id": "bfd38b91",
   "metadata": {},
   "outputs": [
    {
     "data": {
      "text/html": [
       "<div>\n",
       "<style scoped>\n",
       "    .dataframe tbody tr th:only-of-type {\n",
       "        vertical-align: middle;\n",
       "    }\n",
       "\n",
       "    .dataframe tbody tr th {\n",
       "        vertical-align: top;\n",
       "    }\n",
       "\n",
       "    .dataframe thead th {\n",
       "        text-align: right;\n",
       "    }\n",
       "</style>\n",
       "<table border=\"1\" class=\"dataframe\">\n",
       "  <thead>\n",
       "    <tr style=\"text-align: right;\">\n",
       "      <th></th>\n",
       "      <th>id</th>\n",
       "      <th>name</th>\n",
       "      <th>description</th>\n",
       "      <th>menus_appeared</th>\n",
       "      <th>times_appeared</th>\n",
       "      <th>first_appeared</th>\n",
       "      <th>last_appeared</th>\n",
       "      <th>lowest_price</th>\n",
       "      <th>highest_price</th>\n",
       "    </tr>\n",
       "  </thead>\n",
       "  <tbody>\n",
       "    <tr>\n",
       "      <th>0</th>\n",
       "      <td>1</td>\n",
       "      <td>Consomme printaniere royal</td>\n",
       "      <td>NaN</td>\n",
       "      <td>8</td>\n",
       "      <td>8</td>\n",
       "      <td>1897</td>\n",
       "      <td>1927</td>\n",
       "      <td>0.20</td>\n",
       "      <td>0.4</td>\n",
       "    </tr>\n",
       "    <tr>\n",
       "      <th>1</th>\n",
       "      <td>2</td>\n",
       "      <td>Chicken gumbo</td>\n",
       "      <td>NaN</td>\n",
       "      <td>111</td>\n",
       "      <td>117</td>\n",
       "      <td>1895</td>\n",
       "      <td>1960</td>\n",
       "      <td>0.10</td>\n",
       "      <td>0.8</td>\n",
       "    </tr>\n",
       "    <tr>\n",
       "      <th>2</th>\n",
       "      <td>3</td>\n",
       "      <td>Tomato aux croutons</td>\n",
       "      <td>NaN</td>\n",
       "      <td>13</td>\n",
       "      <td>13</td>\n",
       "      <td>1893</td>\n",
       "      <td>1917</td>\n",
       "      <td>0.25</td>\n",
       "      <td>0.4</td>\n",
       "    </tr>\n",
       "    <tr>\n",
       "      <th>3</th>\n",
       "      <td>4</td>\n",
       "      <td>Onion au gratin</td>\n",
       "      <td>NaN</td>\n",
       "      <td>41</td>\n",
       "      <td>41</td>\n",
       "      <td>1900</td>\n",
       "      <td>1971</td>\n",
       "      <td>0.25</td>\n",
       "      <td>1.0</td>\n",
       "    </tr>\n",
       "    <tr>\n",
       "      <th>4</th>\n",
       "      <td>5</td>\n",
       "      <td>St. Emilion</td>\n",
       "      <td>NaN</td>\n",
       "      <td>66</td>\n",
       "      <td>68</td>\n",
       "      <td>1881</td>\n",
       "      <td>1981</td>\n",
       "      <td>0.00</td>\n",
       "      <td>18.0</td>\n",
       "    </tr>\n",
       "  </tbody>\n",
       "</table>\n",
       "</div>"
      ],
      "text/plain": [
       "   id                        name  description  menus_appeared  \\\n",
       "0   1  Consomme printaniere royal          NaN               8   \n",
       "1   2               Chicken gumbo          NaN             111   \n",
       "2   3         Tomato aux croutons          NaN              13   \n",
       "3   4             Onion au gratin          NaN              41   \n",
       "4   5                 St. Emilion          NaN              66   \n",
       "\n",
       "   times_appeared  first_appeared  last_appeared  lowest_price  highest_price  \n",
       "0               8            1897           1927          0.20            0.4  \n",
       "1             117            1895           1960          0.10            0.8  \n",
       "2              13            1893           1917          0.25            0.4  \n",
       "3              41            1900           1971          0.25            1.0  \n",
       "4              68            1881           1981          0.00           18.0  "
      ]
     },
     "metadata": {},
     "output_type": "display_data"
    },
    {
     "name": "stdout",
     "output_type": "stream",
     "text": [
      "id                  int64\n",
      "name               object\n",
      "description       float64\n",
      "menus_appeared      int64\n",
      "times_appeared      int64\n",
      "first_appeared      int64\n",
      "last_appeared       int64\n",
      "lowest_price      float64\n",
      "highest_price     float64\n",
      "dtype: object\n"
     ]
    },
    {
     "data": {
      "text/html": [
       "<div>\n",
       "<style scoped>\n",
       "    .dataframe tbody tr th:only-of-type {\n",
       "        vertical-align: middle;\n",
       "    }\n",
       "\n",
       "    .dataframe tbody tr th {\n",
       "        vertical-align: top;\n",
       "    }\n",
       "\n",
       "    .dataframe thead th {\n",
       "        text-align: right;\n",
       "    }\n",
       "</style>\n",
       "<table border=\"1\" class=\"dataframe\">\n",
       "  <thead>\n",
       "    <tr style=\"text-align: right;\">\n",
       "      <th></th>\n",
       "      <th>id</th>\n",
       "      <th>description</th>\n",
       "      <th>menus_appeared</th>\n",
       "      <th>times_appeared</th>\n",
       "      <th>first_appeared</th>\n",
       "      <th>last_appeared</th>\n",
       "      <th>lowest_price</th>\n",
       "      <th>highest_price</th>\n",
       "    </tr>\n",
       "  </thead>\n",
       "  <tbody>\n",
       "    <tr>\n",
       "      <th>count</th>\n",
       "      <td>423397.000000</td>\n",
       "      <td>0.0</td>\n",
       "      <td>423397.000000</td>\n",
       "      <td>423397.000000</td>\n",
       "      <td>423397.000000</td>\n",
       "      <td>423397.000000</td>\n",
       "      <td>394297.000000</td>\n",
       "      <td>394297.000000</td>\n",
       "    </tr>\n",
       "    <tr>\n",
       "      <th>mean</th>\n",
       "      <td>264456.594900</td>\n",
       "      <td>NaN</td>\n",
       "      <td>3.060489</td>\n",
       "      <td>3.146794</td>\n",
       "      <td>1675.514555</td>\n",
       "      <td>1679.299738</td>\n",
       "      <td>0.965265</td>\n",
       "      <td>1.603875</td>\n",
       "    </tr>\n",
       "    <tr>\n",
       "      <th>std</th>\n",
       "      <td>150489.070889</td>\n",
       "      <td>NaN</td>\n",
       "      <td>27.818178</td>\n",
       "      <td>29.962122</td>\n",
       "      <td>651.321461</td>\n",
       "      <td>651.934580</td>\n",
       "      <td>6.714564</td>\n",
       "      <td>12.696274</td>\n",
       "    </tr>\n",
       "    <tr>\n",
       "      <th>min</th>\n",
       "      <td>1.000000</td>\n",
       "      <td>NaN</td>\n",
       "      <td>0.000000</td>\n",
       "      <td>-6.000000</td>\n",
       "      <td>0.000000</td>\n",
       "      <td>0.000000</td>\n",
       "      <td>0.000000</td>\n",
       "      <td>0.000000</td>\n",
       "    </tr>\n",
       "    <tr>\n",
       "      <th>25%</th>\n",
       "      <td>132374.000000</td>\n",
       "      <td>NaN</td>\n",
       "      <td>1.000000</td>\n",
       "      <td>1.000000</td>\n",
       "      <td>1900.000000</td>\n",
       "      <td>1900.000000</td>\n",
       "      <td>0.000000</td>\n",
       "      <td>0.000000</td>\n",
       "    </tr>\n",
       "    <tr>\n",
       "      <th>50%</th>\n",
       "      <td>269636.000000</td>\n",
       "      <td>NaN</td>\n",
       "      <td>1.000000</td>\n",
       "      <td>1.000000</td>\n",
       "      <td>1914.000000</td>\n",
       "      <td>1917.000000</td>\n",
       "      <td>0.000000</td>\n",
       "      <td>0.000000</td>\n",
       "    </tr>\n",
       "    <tr>\n",
       "      <th>75%</th>\n",
       "      <td>397135.000000</td>\n",
       "      <td>NaN</td>\n",
       "      <td>1.000000</td>\n",
       "      <td>1.000000</td>\n",
       "      <td>1949.000000</td>\n",
       "      <td>1955.000000</td>\n",
       "      <td>0.400000</td>\n",
       "      <td>0.600000</td>\n",
       "    </tr>\n",
       "    <tr>\n",
       "      <th>max</th>\n",
       "      <td>515677.000000</td>\n",
       "      <td>NaN</td>\n",
       "      <td>7740.000000</td>\n",
       "      <td>8484.000000</td>\n",
       "      <td>2928.000000</td>\n",
       "      <td>2928.000000</td>\n",
       "      <td>1035.000000</td>\n",
       "      <td>3050.000000</td>\n",
       "    </tr>\n",
       "  </tbody>\n",
       "</table>\n",
       "</div>"
      ],
      "text/plain": [
       "                  id  description  menus_appeared  times_appeared  \\\n",
       "count  423397.000000          0.0   423397.000000   423397.000000   \n",
       "mean   264456.594900          NaN        3.060489        3.146794   \n",
       "std    150489.070889          NaN       27.818178       29.962122   \n",
       "min         1.000000          NaN        0.000000       -6.000000   \n",
       "25%    132374.000000          NaN        1.000000        1.000000   \n",
       "50%    269636.000000          NaN        1.000000        1.000000   \n",
       "75%    397135.000000          NaN        1.000000        1.000000   \n",
       "max    515677.000000          NaN     7740.000000     8484.000000   \n",
       "\n",
       "       first_appeared  last_appeared   lowest_price  highest_price  \n",
       "count   423397.000000  423397.000000  394297.000000  394297.000000  \n",
       "mean      1675.514555    1679.299738       0.965265       1.603875  \n",
       "std        651.321461     651.934580       6.714564      12.696274  \n",
       "min          0.000000       0.000000       0.000000       0.000000  \n",
       "25%       1900.000000    1900.000000       0.000000       0.000000  \n",
       "50%       1914.000000    1917.000000       0.000000       0.000000  \n",
       "75%       1949.000000    1955.000000       0.400000       0.600000  \n",
       "max       2928.000000    2928.000000    1035.000000    3050.000000  "
      ]
     },
     "metadata": {},
     "output_type": "display_data"
    }
   ],
   "source": [
    "# Load into a dataframe\n",
    "dish_df = pd.read_csv('data/raw/Dish.csv')\n",
    "\n",
    "# Load the Menu Item dataset\n",
    "menuitem_df = pd.read_csv('data/raw/MenuItem.csv')\n",
    "\n",
    "# Display the first few rows of the dataframe\n",
    "display(dish_df.head())\n",
    "\n",
    "# Display the data types of the columns\n",
    "print(dish_df.dtypes)\n",
    "\n",
    "# Display summary statistics of the dataframe\n",
    "display(dish_df.describe())"
   ]
  },
  {
   "cell_type": "markdown",
   "id": "911d81eb",
   "metadata": {},
   "source": [
    "#### Analyze IC Violations Between the Dish dataset and the MenuItem Dataset\n",
    "##### Section 1"
   ]
  },
  {
   "cell_type": "code",
   "execution_count": 3,
   "id": "112182e8",
   "metadata": {},
   "outputs": [
    {
     "name": "stdout",
     "output_type": "stream",
     "text": [
      "Total dishes: 423397\n",
      "Violating dishes: 9262\n",
      "Dishes not linked to menu items: 9262 (2.18754502275642%)\n"
     ]
    }
   ],
   "source": [
    "# Find dishes that don't exist in MenuItem table based on the dish ID\n",
    "dish_ids = set(dish_df['id'])\n",
    "menuitem_dish_ids = set(menuitem_df['dish_id'])\n",
    "violating_dish_ids = dish_ids - menuitem_dish_ids\n",
    "\n",
    "print(f\"Total dishes: {len(dish_ids)}\")\n",
    "print(f\"Violating dishes: {len(violating_dish_ids)}\")\n",
    "print(f\"Dishes not linked to menu items: {len(violating_dish_ids)} ({len(violating_dish_ids)/len(dish_ids)*100}%)\")"
   ]
  },
  {
   "cell_type": "markdown",
   "id": "0037cc4d",
   "metadata": {},
   "source": [
    "#### Invalid Date Values for the first_appeared and last_appeared columns\n",
    "##### Section 2"
   ]
  },
  {
   "cell_type": "code",
   "execution_count": 4,
   "id": "9d7cdbf7",
   "metadata": {},
   "outputs": [
    {
     "name": "stdout",
     "output_type": "stream",
     "text": [
      "First Appeared Check Results:\n",
      "    Future years (>2025): 11\n",
      "    Extreme years (<1500): 55492\n",
      "Last Appeared Check Results:\n",
      "    Future years (>2025): 179\n",
      "    Extreme years (<1500): 55321\n",
      "Logical Issues Check Results:\n",
      "    First > Last: 6\n"
     ]
    },
    {
     "data": {
      "image/png": "[encoded data removed]",
      "text/plain": [
       "<Figure size 1000x600 with 1 Axes>"
      ]
     },
     "metadata": {},
     "output_type": "display_data"
    }
   ],
   "source": [
    "current_year = 2025 # the last_appeared should not be greater than this\n",
    "min_valid_year = 1500 # the first_appeared should not be less than this - this was picked at random as the dataset description doesn't identify the first valid time\n",
    "\n",
    "# Invalid year values\n",
    "future_years_first = (dish_df['first_appeared'] > current_year).sum()\n",
    "ancient_years_first = (dish_df['first_appeared'] < min_valid_year).sum()\n",
    "print(f\"First Appeared Check Results:\")\n",
    "print(f\"    Future years (>{current_year}): {future_years_first}\")\n",
    "print(f\"    Extreme years (<{min_valid_year}): {ancient_years_first}\")\n",
    "\n",
    "future_years_last = (dish_df['last_appeared'] > current_year).sum()\n",
    "ancient_years_last = (dish_df['last_appeared'] < min_valid_year).sum()\n",
    "print(f\"Last Appeared Check Results:\")\n",
    "print(f\"    Future years (>{current_year}): {future_years_last}\")\n",
    "print(f\"    Extreme years (<{min_valid_year}): {ancient_years_last}\")\n",
    "\n",
    "# Show where the first appeared date is greater than the last appeared date\n",
    "inconsistent_dates = (dish_df['first_appeared'] > dish_df['last_appeared']).sum()\n",
    "print(f\"Logical Issues Check Results:\")\n",
    "print(f\"    First > Last: {inconsistent_dates}\")\n",
    "\n",
    "# Boxplot of first and last appeared years for understanding\n",
    "plt.figure(figsize=(10, 6))\n",
    "year_data = [\n",
    "    dish_df['first_appeared'].dropna(),\n",
    "    dish_df['last_appeared'].dropna()\n",
    "]\n",
    "plt.boxplot(year_data, tick_labels=['First Appeared', 'Last Appeared'])\n",
    "plt.title('Year Distribution (Raw Data)')\n",
    "plt.ylabel('Year')\n",
    "plt.show()"
   ]
  },
  {
   "cell_type": "markdown",
   "id": "eedf6b1d",
   "metadata": {},
   "source": [
    "#### Analyze Invalid Pricing Records\n",
    "##### Section 3"
   ]
  },
  {
   "cell_type": "code",
   "execution_count": 5,
   "id": "128d2c65",
   "metadata": {},
   "outputs": [
    {
     "name": "stdout",
     "output_type": "stream",
     "text": [
      "Records with both prices missing: 29100\n",
      "Records with lowest price missing but highest price present: 0\n",
      "Records with highest price missing but lowest price present: 0\n",
      "Records with both prices zero: 218014\n",
      "Percentage of records with both prices zero: 51.49162606253705%\n"
     ]
    },
    {
     "data": {
      "image/png": "[encoded data removed]",
      "text/plain": [
       "<Figure size 1000x600 with 1 Axes>"
      ]
     },
     "metadata": {},
     "output_type": "display_data"
    }
   ],
   "source": [
    "# Find records where both price fields are null/empty\n",
    "missing_both_prices = dish_df[dish_df['lowest_price'].isnull() & dish_df['highest_price'].isnull()]\n",
    "print(f\"Records with both prices missing: {len(missing_both_prices)}\")\n",
    "\n",
    "# Identify records where the lowest price is null/empty but the highest price is not\n",
    "missing_lowest_price = dish_df[dish_df['lowest_price'].isnull() & dish_df['highest_price'].notnull()]\n",
    "print(f\"Records with lowest price missing but highest price present: {len(missing_lowest_price)}\")\n",
    "\n",
    "# Identify records where the highest price is null/empty but the lowest price is not\n",
    "missing_highest_price = dish_df[dish_df['highest_price'].isnull() & dish_df['lowest_price'].notnull()]\n",
    "print(f\"Records with highest price missing but lowest price present: {len(missing_highest_price)}\")\n",
    "\n",
    "# Identify records where both prices are zero\n",
    "zero_prices = dish_df[(dish_df['lowest_price'] == 0) & (dish_df['highest_price'] == 0)]\n",
    "print(f\"Records with both prices zero: {len(zero_prices)}\")\n",
    "\n",
    "# Percentage of reords with both prices zero\n",
    "zero_prices_percentage = (len(zero_prices) / len(dish_df)) * 100\n",
    "print(f\"Percentage of records with both prices zero: {zero_prices_percentage}%\")\n",
    "\n",
    "# Boxplot the distribution of lowest and highest prices\n",
    "plt.figure(figsize=(10, 6))\n",
    "\n",
    "# Need to drop na to visualize the boxplot correctly\n",
    "price_data = [\n",
    "    dish_df['lowest_price'].dropna(),\n",
    "    dish_df['highest_price'].dropna()\n",
    "]\n",
    "\n",
    "plt.boxplot(price_data, tick_labels=['Lowest Price', 'Highest Price'])\n",
    "plt.title('Price Distribution (Raw Data)')\n",
    "plt.ylabel('Price ($)')\n",
    "plt.show()"
   ]
  },
  {
   "cell_type": "markdown",
   "id": "a889a922",
   "metadata": {},
   "source": [
    "#### Standardize the Dish Name Column\n",
    "##### Section 4"
   ]
  },
  {
   "cell_type": "code",
   "execution_count": 6,
   "id": "f1c95308",
   "metadata": {},
   "outputs": [
    {
     "name": "stdout",
     "output_type": "stream",
     "text": [
      "Name Completeness: 423397/423397 (100.0%)\n",
      "Unique Names: 423363 (potential duplicates: 34)\n",
      "Missing Names: 0 (0.0%)\n",
      "All Upper Case: 16491\n",
      "All Lower Case: 11513\n",
      "Mixed Case: 395393 (potential case standardization needed to make all lowercase)\n",
      "Dishes with quotes in name: 6860\n"
     ]
    }
   ],
   "source": [
    "# Name completeness and uniqueness\n",
    "total_names = len(dish_df)\n",
    "unique_names = dish_df['name'].nunique()\n",
    "missing_names = dish_df['name'].isnull().sum()\n",
    "\n",
    "print(f\"Name Completeness: {total_names - missing_names}/{total_names} ({((total_names - missing_names)/total_names*100)}%)\")\n",
    "print(f\"Unique Names: {unique_names} (potential duplicates: {total_names - unique_names})\")\n",
    "print(f\"Missing Names: {missing_names} ({(missing_names/total_names*100)}%)\")\n",
    "\n",
    "# Case standardization needs\n",
    "all_upper = dish_df['name'].str.isupper().sum()\n",
    "all_lower = dish_df['name'].str.islower().sum()\n",
    "mixed_case = total_names - all_upper - all_lower - missing_names\n",
    "print(f\"All Upper Case: {all_upper}\")\n",
    "print(f\"All Lower Case: {all_lower}\")\n",
    "print(f\"Mixed Case: {mixed_case} (potential case standardization needed to make all lowercase)\")\n",
    "\n",
    "# Dish names that have quotes\n",
    "dish_with_quotes = dish_df[dish_df['name'].str.contains('\"', na=False)]\n",
    "print(f\"Dishes with quotes in name: {len(dish_with_quotes)}\")"
   ]
  },
  {
   "cell_type": "markdown",
   "id": "1b286a5a",
   "metadata": {},
   "source": [
    "#### Drop the Empty Description Column\n",
    "##### Section 5"
   ]
  },
  {
   "cell_type": "code",
   "execution_count": 7,
   "id": "23d22853",
   "metadata": {},
   "outputs": [
    {
     "name": "stdout",
     "output_type": "stream",
     "text": [
      "Null values in 'name': 0 (0.0%)\n",
      "Empty values in 'name': 0 (0.0%)\n",
      "Null values in 'description': 423397 (100.0%)\n",
      "Empty values in 'description': 0 (0.0%)\n"
     ]
    }
   ],
   "source": [
    "# Review null and empty values for the name column\n",
    "total_rows = len(dish_df)\n",
    "null_count = dish_df['name'].isnull().sum()\n",
    "empty_count = (dish_df['name'] == '').sum()\n",
    "null_percentage = (null_count / total_rows) * 100\n",
    "empty_percentage = (empty_count / total_rows) * 100\n",
    "print(f\"Null values in 'name': {null_count} ({null_percentage}%)\")\n",
    "print(f\"Empty values in 'name': {empty_count} ({empty_percentage}%)\")\n",
    "\n",
    "\n",
    "# Review null and empty values for the description column\n",
    "null_count = dish_df['description'].isnull().sum()\n",
    "empty_count = (dish_df['description'] == '').sum()\n",
    "null_percentage = (null_count / total_rows) * 100\n",
    "empty_percentage = (empty_count / total_rows) * 100\n",
    "print(f\"Null values in 'description': {null_count} ({null_percentage}%)\")\n",
    "print(f\"Empty values in 'description': {empty_count} ({empty_percentage}%)\")"
   ]
  },
  {
   "cell_type": "code",
   "execution_count": 8,
   "id": "350cd405",
   "metadata": {},
   "outputs": [
    {
     "name": "stdout",
     "output_type": "stream",
     "text": [
      "Numeric Columns - Missing Data\n",
      "id: 0 missing (0.0%)\n",
      "first_appeared: 0 missing (0.0%)\n",
      "last_appeared: 0 missing (0.0%)\n",
      "lowest_price: 29,100 missing (6.872982094818811%)\n",
      "highest_price: 29,100 missing (6.872982094818811%)\n",
      "times_appeared: 0 missing (0.0%)\n"
     ]
    }
   ],
   "source": [
    "# Review null and empty values for numeric columns in the dataset\n",
    "total_records = len(dish_df)\n",
    "\n",
    "numeric_columns = ['id', 'first_appeared', 'last_appeared', 'lowest_price', 'highest_price', 'times_appeared']\n",
    "\n",
    "print(\"Numeric Columns - Missing Data\")\n",
    "numeric_missing_percentages = []\n",
    "for col in numeric_columns:\n",
    "    missing_count = dish_df[col].isnull().sum()\n",
    "    missing_pct = (missing_count / total_records) * 100\n",
    "    print(f\"{col}: {missing_count:,} missing ({missing_pct}%)\")\n",
    "    numeric_missing_percentages.append(missing_pct)"
   ]
  }
 ],
 "metadata": {
  "kernelspec": {
   "display_name": ".venv",
   "language": "python",
   "name": "python3"
  },
  "language_info": {
   "codemirror_mode": {
    "name": "ipython",
    "version": 3
   },
   "file_extension": ".py",
   "mimetype": "text/x-python",
   "name": "python",
   "nbconvert_exporter": "python",
   "pygments_lexer": "ipython3",
   "version": "3.12.3"
  }
 },
 "nbformat": 4,
 "nbformat_minor": 5
}
